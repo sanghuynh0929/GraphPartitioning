{
 "cells": [
  {
   "cell_type": "markdown",
   "metadata": {
    "id": "XX1QLU10BNvJ"
   },
   "source": [
    "# K-Graph Partitioning Problem\n",
    "This project is a collection of some algorithm for the k-Graph Partitioning Problem. The algorithms that we are going to suggest includes:\n",
    "- Backtracking\n",
    "- Constraint/Integer Programming with Google OR-Tools\n",
    "- Overview of Spectral Clustering with Scikit-learn\n",
    "- Using Karlsruhe High Quality Graph Partitioning (KaHIP) Python module\n",
    "\n",
    "## Problem Statement\n",
    "Given an undirected graph $G = (V,E,w)$. We need to partition $V$ into $k$ subsets $V_1, ..., V_k$ such that:\n",
    "- The $k$ subsets are of nearly equal size. The constraint might be either in the form \n",
    "$$\\max_{i} |V_i| - \\min_{i} |V_i| <= \\alpha $$\n",
    "or \n",
    "$$|V_i| < (\\epsilon + 1) \\frac{|V|}{k} \\quad \\forall i $$\n",
    "for some $\\alpha \\in \\mathbf{Z_{++}}$ or $\\epsilon > 0$ are imbalance factors. We denote the two versions of the problems \"$\\alpha$-constrained\" or \"$\\epsilon$-constrained\". \n",
    "- The total weight of edges that connects two different subsets is minimized (the cut size), i.e. $$\\text{minimize} \\sum_{\\{u,v\\}\\in C} w(\\{u,v\\}) \\\\\\text{ for } C = \\{\\{u,v\\}\\in E : u \\in V_i, v\\in V_j, 1 \\le i < j \\le k \\}$$\n",
    "\n",
    "## Input Description\n",
    "We use the format in the KaHIP description to define our graph data structure. It uses an adjacency structure stored in a compressed sparsed row format, which consists of four arrays:  \n",
    "- vwgt: the vertex weight array of size n. In our problem, the vertices are of equal weight.\n",
    "- xadj, adjncy: adjacency arrays of size (n+1) and (2m) to describe the edges. We will explain this later.\n",
    "- adjcwgt: the edge weight array of size 2m. \n",
    "\n",
    "For example, the following arrays:  \n",
    "<code>\n",
    "xadj = [0,2,5,7,9,12]  \n",
    "adjncy = [1,4,0,2,4,1,3,2,4,0,1,3]\n",
    "</code>\n",
    "\n",
    "would describe the following graph:\n",
    "\n",
    "<img src=\"https://drive.google.com/uc?export=view&id=1mcnBJoyxmOyaG5CNFyOyWjV-kyYB_5HL\" \n",
    "     width=\"100\" />\n",
    "\n",
    "The vertices are 0-indexed. The ith vertex is adjacent to vertices in <code>adjncy[xadj[i]:xadj[i+1]]</code>. For example, the vertex $1$ in the graph is adjacent to the edges with index <code> adjncy[2:5] </code>, which are $0,2,4$. Since one edge has to be described from two vertices, the <code>adjncy</code> and <code>adjcwgt</code> arrays are of size (2m)."
   ]
  },
  {
   "cell_type": "code",
   "execution_count": 1,
   "metadata": {
    "id": "vCus2wP4tFkK"
   },
   "outputs": [],
   "source": [
    "import numpy as np\n",
    "# Input for the problem in the above format\n",
    "input_xadj       = np.array([0,2,5,7,9,12])\n",
    "input_adjncy     = np.array([1,4,0,2,4,1,3,2,4,0,1,3])\n",
    "input_vwgt       = np.array([1,1,1,1,1])\n",
    "input_adjcwgt    = np.array([1,1,1,1,1,1,1,1,1,1,1,1])\n",
    "epsilon          = 0.03 \n",
    "alpha            = 1 \n",
    "k                = 2\n",
    "n = np.shape(input_vwgt)[0] # number of vertices\n",
    "m = np.shape(input_adjcwgt)[0] // 2 # number of edges"
   ]
  },
  {
   "cell_type": "code",
   "execution_count": 2,
   "metadata": {},
   "outputs": [],
   "source": [
    "# Generate adjacency matrix, since for some of these algorithms to work, n should not be too large\n",
    "\n",
    "adjacency = [[0 for i in range(n)] for j in range(n)]\n",
    "for i in range(n):\n",
    "    adjacency[i][i] = 0\n",
    "for i in range(n):\n",
    "    s,t = input_xadj[i], input_xadj[i+1]\n",
    "    for j in range(s, t):\n",
    "        adjacency[i][input_adjncy[j]] = input_adjcwgt[j]"
   ]
  },
  {
   "cell_type": "markdown",
   "metadata": {
    "id": "B8tPDP5stWzF"
   },
   "source": [
    "## Backtracking Approach\n",
    "The backtracking algorithm works well for small datasets, and would generate k-partitions of the set {0,...,n-1}. But for larger graphs, time would rise exponentially. The total number of k-partitions would be the Stirling number of the second kind (S(n,k)). \n",
    "\n",
    "We could combine the algorithm with branch and bound method to reduce the number of total partitions. "
   ]
  },
  {
   "cell_type": "code",
   "execution_count": 3,
   "metadata": {
    "colab": {
     "base_uri": "https://localhost:8080/"
    },
    "id": "d0aTJ9gafFHU",
    "outputId": "a617811d-e5fa-4684-c291-8f9a8d89f29c"
   },
   "outputs": [
    {
     "name": "stdout",
     "output_type": "stream",
     "text": [
      "0 0 1 1 0\n"
     ]
    }
   ],
   "source": [
    "partition = [0 for i in range(n)]\n",
    "\n",
    "ans_partition = [-1 for i in range(n)]\n",
    "\n",
    "lower_bound = float('inf')\n",
    "\n",
    "\n",
    "def Try(i, mx, ans=0):\n",
    "    global lower_bound, ans_partition\n",
    "    def check_valid_partition(setting=0):\n",
    "        def check_alpha(count):\n",
    "            mn = min(count)\n",
    "            mx = max(count)\n",
    "            return (mx - mn <= alpha)\n",
    "        \n",
    "        def check_epsilon(count):\n",
    "            mx = max(count)\n",
    "            return mx < (1 + epsilon)\n",
    "        \n",
    "        count = [0 for _ in range(k)]\n",
    "        for i in range(n):\n",
    "            count[partition[i]] += 1\n",
    "        if setting == 0:\n",
    "            return check_alpha(count)\n",
    "        else:\n",
    "            return check_epsilon(count)\n",
    "    \n",
    "    if i == n:\n",
    "        if check_valid_partition() == True and ans < lower_bound:\n",
    "            ans_partition = partition[:]\n",
    "            lower_bound = ans\n",
    "    elif i == 0:\n",
    "        partition[0] = 0\n",
    "        Try(1,0)\n",
    "    else:\n",
    "        if mx==k-1:\n",
    "            for j in range(k):\n",
    "                new_ans = ans\n",
    "                partition[i] = j\n",
    "                # Update the weight\n",
    "                for t in range(i):\n",
    "                    if partition[t] != j:\n",
    "                        new_ans += adjacency[i][t]\n",
    "                if new_ans <= lower_bound:\n",
    "                    Try(i+1, k-1, new_ans)\n",
    "                else:\n",
    "                    continue\n",
    "\n",
    "        elif (i-mx)+k == n + 1:\n",
    "            new_ans = ans\n",
    "            partition[i] = mx+1\n",
    "            for t in range(i):\n",
    "                if partition[t] != mx+1:\n",
    "                    new_ans += adjacency[i][t]\n",
    "            if new_ans <= lower_bound:\n",
    "                Try(i+1, mx+1, new_ans)\n",
    "            else:\n",
    "                return\n",
    "        else:\n",
    "            for j in range(mx+2):\n",
    "                new_ans = ans\n",
    "                partition[i] = j \n",
    "                for t in range(i):\n",
    "                    if partition[t] != j:\n",
    "                        new_ans += adjacency[i][t]\n",
    "                if new_ans <= lower_bound:\n",
    "                    Try(i+1, max(mx, j), new_ans)\n",
    "                else:\n",
    "                    continue\n",
    "\n",
    "Try(0,0)\n",
    "print(*ans_partition)"
   ]
  },
  {
   "cell_type": "markdown",
   "metadata": {
    "id": "_ruxp7g1R-Mi"
   },
   "source": [
    "## Constraint/Integer Programming using OR-Tools\n",
    "OR-Tools is a strong tool for operation research, developed by Google. It is used for constraint programming and integer linear programming (ILP) problems. Today we are going to suggest the mathematical model for both versions of the partitioning problem: the alpha-constrained problem and the epsilon-constrained problem.\n",
    "\n",
    "Let start with installing the OR-Tools package in Python."
   ]
  },
  {
   "cell_type": "code",
   "execution_count": 4,
   "metadata": {
    "colab": {
     "base_uri": "https://localhost:8080/"
    },
    "id": "bwdwThvGTHq_",
    "outputId": "fef7fb2f-e77b-4909-fd81-9d359d3cfea4"
   },
   "outputs": [],
   "source": [
    "# %pip install ortools"
   ]
  },
  {
   "cell_type": "markdown",
   "metadata": {
    "id": "fi3huyWtTlPv"
   },
   "source": [
    "Let us begin with introducing an integer programming formulation for the $\\epsilon$-constrained version. First we introduce binary decision variable for all edges and vertices of the graph. For each edge $e=\\{u,v\\}\\in E$, let $e_{uv} \\in \\{0,1\\}$, i.e. whether $e$ is a cut edge. Moreover, for each $v\\in V$ and subset $p$, let $x_{v,p} \\in \\{0.1\\}$ to denote if $v$ is in subset $p$ or not. We have a total of $|E|+k|V|$ variables. \n",
    "\n",
    "The maximum size of a subset should be:\n",
    "$$ M = (1+\\epsilon) \\lceil \\frac{|V|}{k} \\rceil $$ \n",
    "\n",
    "To ensure a valid partition, we have:\n",
    "$$ \\forall \\{u,v\\} \\in E, \\forall p: e_{uv} \\ge + x_{u,p} - x_{v,p} $$\n",
    "$$ \\forall \\{u,v\\} \\in E, \\forall p: e_{uv} \\ge - x_{u,p} + x_{v,p}  $$\n",
    "$$ \\forall p : \\sum_{v\\in V} x_{v,p} \\le M \\quad (*)$$ \n",
    "$$ \\forall v\\in V: \\sum_{p} x_{v,p} = 1 $$\n",
    "\n",
    "If we want the partition size to be constrained by alpha instead of epsilon, then $(*)$ should be replaced with\n",
    "\n",
    "$$ \\forall p : \\sum_{v \\in V} x_{v,p} \\le mx $$\n",
    "$$ \\forall p : \\sum_{v \\in V} x_{v,p} \\ge mn $$\n",
    "$$ mx - mn \\le \\alpha $$\n",
    "The objective function is:\n",
    "\n",
    "$$ \\text{minimize } \\sum_{\\{u,v\\}\\in E}e_{uv} w(\\{u,v\\}) $$"
   ]
  },
  {
   "cell_type": "code",
   "execution_count": 13,
   "metadata": {
    "id": "VYq4afoJbKt-"
   },
   "outputs": [
    {
     "name": "stdout",
     "output_type": "stream",
     "text": [
      "Number of Variables: 16\n",
      "Objective Value = 2.0\n",
      "Vertex 0 belongs to Partition 0\n",
      "Vertex 1 belongs to Partition 0\n",
      "Vertex 2 belongs to Partition 1\n",
      "Vertex 3 belongs to Partition 1\n",
      "Vertex 4 belongs to Partition 0\n",
      "\n",
      "Problem solved in 8.000000 milliseconds\n",
      "Problem solved in 28 iterations\n",
      "Problem solved in 1 branch-and-bound nodes\n"
     ]
    }
   ],
   "source": [
    "from ortools.linear_solver import pywraplp\n",
    "import math\n",
    "solver = pywraplp.Solver.CreateSolver('SCIP')\n",
    "\n",
    "V_max = (1 + epsilon) * math.ceil(n / k) \n",
    "infinity = solver.infinity()\n",
    "X = dict()\n",
    "E = dict()\n",
    "for v in range(n):\n",
    "    for p in range(k):\n",
    "        X[(v,p)] = solver.IntVar(0,1,'X[{},{}]'.format(v,p))\n",
    "\n",
    "for u in range(n):\n",
    "    for j in range(input_xadj[u],input_xadj[u+1]):\n",
    "        v = input_adjncy[j] \n",
    "        if u < v:\n",
    "            E[(u,v)] = solver.IntVar(0,1,'E[{},{}]'.format(u,v))\n",
    "\n",
    "print(\"Number of Variables: {}\".format(solver.NumVariables()))\n",
    "\n",
    "for u,v in E:\n",
    "    for p in range(k):\n",
    "        solver.Add(E[u,v] >= X[u,p] - X[v,p])\n",
    "        solver.Add(E[u,v] >= -X[u,p] + X[v,p])\n",
    "\n",
    "# EPSILON-STYLED CONSTRAINT\n",
    "# for p in range(k):\n",
    "#     constraint = solver.RowConstraint(0,V_max,'')\n",
    "#     for v in range(n):\n",
    "#         constraint.SetCoefficient(X[v,p], 1)\n",
    "#########\n",
    "\n",
    "# ALPHA-STYLED CONSTRAINT\n",
    "\n",
    "mx = solver.IntVar(0,n, 'mx')\n",
    "mn = solver.IntVar(0,n, 'mn')\n",
    "\n",
    "\n",
    "for p in range(k):\n",
    "    constraint = solver.RowConstraint(0,infinity,'')\n",
    "    for v in range(n):\n",
    "        constraint.SetCoefficient(X[v,p], 1)\n",
    "    constraint.SetCoefficient(mn, -1)\n",
    "for p in range(k):\n",
    "    constraint = solver.RowConstraint(0, infinity,'')\n",
    "    for v in range(n):\n",
    "        constraint.SetCoefficient(X[v,p], -1)\n",
    "    constraint.SetCoefficient(mx, 1)\n",
    "    \n",
    "solver.Add(mx - mn <= alpha)\n",
    "########\n",
    "for p in range(k):\n",
    "    constraint = solver.RowConstraint(0,infinity,'')\n",
    "    for v in range(n):\n",
    "        constraint.SetCoefficient(X[v,p], 1)\n",
    "        \n",
    "for v in range(n):\n",
    "    constraint = solver.RowConstraint(1,1,'')\n",
    "    for p in range(k):\n",
    "        constraint.SetCoefficient(X[v,p], 1)\n",
    "\n",
    "objective = solver.Objective()\n",
    "for u,v in E:\n",
    "    objective.SetCoefficient(E[(u,v)], int(adjacency[u][v]))\n",
    "objective.SetMinimization()\n",
    "\n",
    "status = solver.Solve()\n",
    "\n",
    "if status == pywraplp.Solver.OPTIMAL:\n",
    "    print('Objective Value =', solver.Objective().Value())\n",
    "    for v in range(n):\n",
    "        for p in range(k):\n",
    "            if X[(v,p)].solution_value() == 1.:\n",
    "                print(\"Vertex {} belongs to Partition {}\".format(v,p))\n",
    "    print()\n",
    "    print('Problem solved in %f milliseconds' % solver.wall_time())\n",
    "    print('Problem solved in %d iterations' % solver.iterations())\n",
    "    print('Problem solved in %d branch-and-bound nodes' % solver.nodes())\n",
    "else:\n",
    "    print('The problem does not have an optimal solution.')\n"
   ]
  },
  {
   "cell_type": "markdown",
   "metadata": {},
   "source": [
    "## Overview of Spectral Clustering with `scikit-learn`\n",
    "\n",
    "Spectral clustering is a powerful clustering algorithm that could be used effectively for nonconvex clusters. In this case, we are going to apply it into an undirected edge-weighted graph, i.e. this problem.\n",
    "\n",
    "\n"
   ]
  },
  {
   "cell_type": "markdown",
   "metadata": {
    "id": "13Qm-b7qrsd_"
   },
   "source": [
    "## Karlsruhe High Quality Graph Partitioning Module\n",
    "\n",
    "This library is a powerful library for graph partitioning problem. Its multilevel algorithm incorporates many valuable idea, including graph coursening, local search refinements, etc. \n",
    "\n",
    "\n",
    "\n",
    "To install KaHIP package for Python, please refer to https://github.com/KaHIP/KaHIP where there are detailed instructions. To make it work in Colab, it requires a little bit of tweak. The cell below is to download and build the package with cmake. Uncomment it and run"
   ]
  },
  {
   "cell_type": "code",
   "execution_count": null,
   "metadata": {
    "colab": {
     "background_save": true
    },
    "id": "1OUWtkhaCqaY"
   },
   "outputs": [],
   "source": [
    "!python3 -m pip install pybind11\n",
    "!git clone https://github.com/KaHIP/KaHIP\n",
    "!KaHIP/compile_withcmake.sh BUILDPYTHONMODULE"
   ]
  },
  {
   "cell_type": "markdown",
   "metadata": {
    "id": "oJlgc02AsVvr"
   },
   "source": [
    "Go to directory: <code>KaHIP/deploy</code>"
   ]
  },
  {
   "cell_type": "code",
   "execution_count": null,
   "metadata": {
    "id": "1o2FPsdJrayc"
   },
   "outputs": [],
   "source": [
    "!cd KaHIP/deploy\n",
    "!pwd"
   ]
  },
  {
   "cell_type": "markdown",
   "metadata": {
    "id": "OWSSRm7GsbhX"
   },
   "source": [
    "Then you could import kahip in your program. Note that it might not work first try. Even I do not know why my setup works."
   ]
  },
  {
   "cell_type": "code",
   "execution_count": null,
   "metadata": {
    "id": "5tb1Ivqfkx4f"
   },
   "outputs": [],
   "source": [
    "import kahip\n",
    "\n",
    "#build adjacency array representation of the graph\n",
    "xadj           = input_xadj \n",
    "adjncy         = input_adjncy \n",
    "vwgt           = input_vwgt \n",
    "adjcwgt        = input_adjcwgt \n",
    "supress_output = 0\n",
    "imbalance      = epsilon\n",
    "nblocks        = input_k\n",
    "seed           = 0\n",
    "\n",
    "# set mode \n",
    "#const int FAST           = 0;\n",
    "#const int ECO            = 1;\n",
    "#const int STRONG         = 2;\n",
    "#const int FASTSOCIAL     = 3;\n",
    "#const int ECOSOCIAL      = 4;\n",
    "#const int STRONGSOCIAL   = 5;\n",
    "mode = 2 \n",
    "\n",
    "edgecut, blocks = kahip.kaffpa(vwgt, xadj, adjcwgt, \n",
    "                              adjncy,  nblocks, imbalance, \n",
    "                              supress_output, seed, mode)\n",
    "\n",
    "print(edgecut)\n",
    "print(blocks)"
   ]
  }
 ],
 "metadata": {
  "colab": {
   "provenance": []
  },
  "kernelspec": {
   "display_name": "Python 3.10 (ortools)",
   "language": "python",
   "name": "ortools"
  },
  "language_info": {
   "codemirror_mode": {
    "name": "ipython",
    "version": 3
   },
   "file_extension": ".py",
   "mimetype": "text/x-python",
   "name": "python",
   "nbconvert_exporter": "python",
   "pygments_lexer": "ipython3",
   "version": "3.10.8"
  }
 },
 "nbformat": 4,
 "nbformat_minor": 4
}
